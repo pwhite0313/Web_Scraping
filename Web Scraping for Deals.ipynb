{
 "cells": [
  {
   "cell_type": "code",
   "execution_count": null,
   "id": "c0478643",
   "metadata": {},
   "outputs": [],
   "source": [
    "from bs4 import BeautifulSoup\n",
    "import requests\n",
    "import webbrowser"
   ]
  },
  {
   "cell_type": "code",
   "execution_count": null,
   "id": "06bbdd58",
   "metadata": {},
   "outputs": [],
   "source": [
    "#Scrape URL for product using BeautifulSoup library\n",
    "def get_product():\n",
    "\n",
    "    #Make the Soup\n",
    "    source_url = requests.get('https://www.bjjhq.com/').text\n",
    "    soup = BeautifulSoup(source_url, 'lxml')\n",
    "\n",
    "    #Define product and cost\n",
    "    product = soup.find('div', id='container').h1.text\n",
    "    cost = soup.find('div', class_='sold').text.strip()\n",
    "    \n",
    "    return product, cost\n",
    "\n",
    "#Remove case and search for match using intersection\n",
    "def find_match(product, wishlist):\n",
    "    product_list = map(str.lower, product.split())\n",
    "    wishlist = map(str.lower, wishlist)\n",
    "\n",
    "    #Look for matches using intersection\n",
    "    match = set(product_list).intersection(wishlist)\n",
    "    \n",
    "    return match"
   ]
  },
  {
   "cell_type": "code",
   "execution_count": null,
   "id": "a6ed37e8",
   "metadata": {},
   "outputs": [],
   "source": [
    "#Define items on wishlist\n",
    "wishlist = ['Gi', 'Rashguard']\n",
    "\n",
    "#Call function for product and cost\n",
    "product, cost = get_product()\n",
    "\n",
    "#Call function for potential matches\n",
    "match = find_match(product, wishlist)"
   ]
  },
  {
   "cell_type": "code",
   "execution_count": null,
   "id": "33da3cef",
   "metadata": {},
   "outputs": [],
   "source": [
    "#Print results\n",
    "if len(match) != 0:\n",
    "    print(f'Buy: {product}! Selling for {cost}')\n",
    "    webbrowser.open('https://www.bjjhq.com/')\n",
    "else:\n",
    "    print(f'Not today, selling {product} for {cost}.')"
   ]
  }
 ],
 "metadata": {
  "kernelspec": {
   "display_name": "Python 3 (ipykernel)",
   "language": "python",
   "name": "python3"
  },
  "language_info": {
   "codemirror_mode": {
    "name": "ipython",
    "version": 3
   },
   "file_extension": ".py",
   "mimetype": "text/x-python",
   "name": "python",
   "nbconvert_exporter": "python",
   "pygments_lexer": "ipython3",
   "version": "3.9.7"
  }
 },
 "nbformat": 4,
 "nbformat_minor": 5
}
